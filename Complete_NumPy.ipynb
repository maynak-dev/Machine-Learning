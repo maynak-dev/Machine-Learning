{
  "nbformat": 4,
  "nbformat_minor": 0,
  "metadata": {
    "colab": {
      "provenance": [],
      "collapsed_sections": [
        "hvnXGs98BhBp"
      ],
      "authorship_tag": "ABX9TyO4MMdmfiZ4Zg/IzSrs6OM3",
      "include_colab_link": true
    },
    "kernelspec": {
      "name": "python3",
      "display_name": "Python 3"
    },
    "language_info": {
      "name": "python"
    }
  },
  "cells": [
    {
      "cell_type": "markdown",
      "metadata": {
        "id": "view-in-github",
        "colab_type": "text"
      },
      "source": [
        "<a href=\"https://colab.research.google.com/github/maynak-dev/Machine-Learning/blob/main/Complete_NumPy.ipynb\" target=\"_parent\"><img src=\"https://colab.research.google.com/assets/colab-badge.svg\" alt=\"Open In Colab\"/></a>"
      ]
    },
    {
      "cell_type": "markdown",
      "source": [
        "# NumPy - Numerical Python"
      ],
      "metadata": {
        "id": "hvnXGs98BhBp"
      }
    },
    {
      "cell_type": "markdown",
      "source": [
        "**Advantages of NumPy Arrays - **\n",
        "1. Allows Several Mathematical Operations\n",
        "2. Faster Operations\n",
        "\n",
        "\n"
      ],
      "metadata": {
        "id": "Pn7jU5GIBr8Q"
      }
    },
    {
      "cell_type": "code",
      "execution_count": null,
      "metadata": {
        "id": "4mu3fQefBNLZ"
      },
      "outputs": [],
      "source": [
        "import numpy as np"
      ]
    },
    {
      "cell_type": "code",
      "source": [
        "# List vs. NumPy - Time Taken\n",
        "from time import process_time"
      ],
      "metadata": {
        "id": "3a9hBOMSC7U7"
      },
      "execution_count": null,
      "outputs": []
    },
    {
      "cell_type": "code",
      "source": [
        "# Time taken by a List\n",
        "python_list = [i for i in range(10000)]\n",
        "\n",
        "start_time = process_time()\n",
        "\n",
        "python_list = [i+5 for i in python_list]\n",
        "\n",
        "end_time = process_time()\n",
        "\n",
        "print(end_time - start_time)"
      ],
      "metadata": {
        "colab": {
          "base_uri": "https://localhost:8080/"
        },
        "id": "x8tZ7xBnDpc4",
        "outputId": "332b4491-455d-4c72-c98e-6acc0c0c8f36"
      },
      "execution_count": null,
      "outputs": [
        {
          "output_type": "stream",
          "name": "stdout",
          "text": [
            "0.0005446679999998594\n"
          ]
        }
      ]
    },
    {
      "cell_type": "code",
      "source": [
        "np_array = np.array([i for i in range(10000)])\n",
        "\n",
        "start_time = process_time()\n",
        "\n",
        "np_array += 5\n",
        "\n",
        "end_time = process_time()\n",
        "\n",
        "print(end_time - start_time)"
      ],
      "metadata": {
        "colab": {
          "base_uri": "https://localhost:8080/"
        },
        "id": "lu9swGPzEGWQ",
        "outputId": "3c0c7746-d20d-4970-e868-9e46dfd87708"
      },
      "execution_count": null,
      "outputs": [
        {
          "output_type": "stream",
          "name": "stdout",
          "text": [
            "0.00016821499999997158\n"
          ]
        }
      ]
    },
    {
      "cell_type": "markdown",
      "source": [
        "**NumPy Arrays**"
      ],
      "metadata": {
        "id": "ZUVz3a1wH6cy"
      }
    },
    {
      "cell_type": "code",
      "source": [
        "#normal list\n",
        "list1 = [1,2,3,4,5]\n",
        "print(list1)\n",
        "type(list1)"
      ],
      "metadata": {
        "colab": {
          "base_uri": "https://localhost:8080/"
        },
        "id": "Gt5cXTsyE3bp",
        "outputId": "e9559814-0a3d-4b7a-bd7c-052d01b8933c"
      },
      "execution_count": null,
      "outputs": [
        {
          "output_type": "stream",
          "name": "stdout",
          "text": [
            "[1, 2, 3, 4, 5]\n"
          ]
        },
        {
          "output_type": "execute_result",
          "data": {
            "text/plain": [
              "list"
            ]
          },
          "metadata": {},
          "execution_count": 12
        }
      ]
    },
    {
      "cell_type": "code",
      "source": [
        "#NumPy Arrays\n",
        "np_array = np.array([1,2,3,4,5])\n",
        "print(np_array)\n",
        "type(np_array)"
      ],
      "metadata": {
        "colab": {
          "base_uri": "https://localhost:8080/"
        },
        "id": "RVVB-0l5IExT",
        "outputId": "ec71074d-274e-47fd-b922-36943f659718"
      },
      "execution_count": null,
      "outputs": [
        {
          "output_type": "stream",
          "name": "stdout",
          "text": [
            "[1 2 3 4 5]\n"
          ]
        },
        {
          "output_type": "execute_result",
          "data": {
            "text/plain": [
              "numpy.ndarray"
            ]
          },
          "metadata": {},
          "execution_count": 13
        }
      ]
    },
    {
      "cell_type": "code",
      "source": [
        "# Creating 1D array\n",
        "a = np.array([1,2,3,4])\n",
        "print(a)"
      ],
      "metadata": {
        "colab": {
          "base_uri": "https://localhost:8080/"
        },
        "id": "EQqJOA1yIN9f",
        "outputId": "9e8aeb90-758e-4dc6-ea55-e2038ae83161"
      },
      "execution_count": null,
      "outputs": [
        {
          "output_type": "stream",
          "name": "stdout",
          "text": [
            "[1 2 3 4]\n"
          ]
        }
      ]
    },
    {
      "cell_type": "code",
      "source": [
        "a.shape #detect number of rows and columns"
      ],
      "metadata": {
        "colab": {
          "base_uri": "https://localhost:8080/"
        },
        "id": "TRtooacCJcVO",
        "outputId": "0dd7d3c1-0192-48c3-e348-5fed04bbfba6"
      },
      "execution_count": null,
      "outputs": [
        {
          "output_type": "execute_result",
          "data": {
            "text/plain": [
              "(4,)"
            ]
          },
          "metadata": {},
          "execution_count": 16
        }
      ]
    },
    {
      "cell_type": "code",
      "source": [
        "# Creating a 2D array\n",
        "b = np.array([(1,2,3,4),(5,6,7,8)])\n",
        "print(b)"
      ],
      "metadata": {
        "colab": {
          "base_uri": "https://localhost:8080/"
        },
        "id": "oVvgwUXdJbWv",
        "outputId": "7eabdf9e-fa2d-401c-e7c8-3d9c71426431"
      },
      "execution_count": null,
      "outputs": [
        {
          "output_type": "stream",
          "name": "stdout",
          "text": [
            "[[1 2 3 4]\n",
            " [5 6 7 8]]\n"
          ]
        }
      ]
    },
    {
      "cell_type": "code",
      "source": [
        "b.shape"
      ],
      "metadata": {
        "colab": {
          "base_uri": "https://localhost:8080/"
        },
        "id": "cQY-_4ZYJ2FL",
        "outputId": "01f805d3-1ce2-42b6-86cf-7fd8515a14a1"
      },
      "execution_count": null,
      "outputs": [
        {
          "output_type": "execute_result",
          "data": {
            "text/plain": [
              "(2, 4)"
            ]
          },
          "metadata": {},
          "execution_count": 22
        }
      ]
    },
    {
      "cell_type": "code",
      "source": [
        "c= np.array([(1,2,3,4),(5,6,7,8)],dtype=float)\n",
        "print(c)"
      ],
      "metadata": {
        "colab": {
          "base_uri": "https://localhost:8080/"
        },
        "id": "LFBqmwC1J9RT",
        "outputId": "b4ef7b83-79df-453a-e9f7-098dc1e23323"
      },
      "execution_count": null,
      "outputs": [
        {
          "output_type": "stream",
          "name": "stdout",
          "text": [
            "[[1. 2. 3. 4.]\n",
            " [5. 6. 7. 8.]]\n"
          ]
        }
      ]
    },
    {
      "cell_type": "markdown",
      "source": [
        "**Initial Placeholders in NumPy arrays**"
      ],
      "metadata": {
        "id": "xEJVneblKTHx"
      }
    },
    {
      "cell_type": "code",
      "source": [
        "# Creating a NumPy arrays of Zeros\n",
        "x = np.zeros((4,5)) # 4--> Rows and 5--> Columns\n",
        "print(x)"
      ],
      "metadata": {
        "colab": {
          "base_uri": "https://localhost:8080/"
        },
        "id": "YMuQoJ0NKQMu",
        "outputId": "f30a6331-1104-4088-86b7-cab2530a4710"
      },
      "execution_count": null,
      "outputs": [
        {
          "output_type": "stream",
          "name": "stdout",
          "text": [
            "[[0. 0. 0. 0. 0.]\n",
            " [0. 0. 0. 0. 0.]\n",
            " [0. 0. 0. 0. 0.]\n",
            " [0. 0. 0. 0. 0.]]\n"
          ]
        }
      ]
    },
    {
      "cell_type": "code",
      "source": [
        "# Creating a Numpy Arrays of Ones\n",
        "y = np.ones((3,3))\n",
        "print(y)"
      ],
      "metadata": {
        "colab": {
          "base_uri": "https://localhost:8080/"
        },
        "id": "K4UrCqaAKtpm",
        "outputId": "ea51121f-5d84-4100-ddf8-13cebd15783d"
      },
      "execution_count": null,
      "outputs": [
        {
          "output_type": "stream",
          "name": "stdout",
          "text": [
            "[[1. 1. 1.]\n",
            " [1. 1. 1.]\n",
            " [1. 1. 1.]]\n"
          ]
        }
      ]
    },
    {
      "cell_type": "code",
      "source": [
        "# Creating a NumPy arrays of Specific values\n",
        "z = np.full((5,4),5)\n",
        "print(z)"
      ],
      "metadata": {
        "colab": {
          "base_uri": "https://localhost:8080/"
        },
        "id": "XYE6Fu92LCx3",
        "outputId": "db676105-2fb2-4d03-b952-2076b9d5f0bd"
      },
      "execution_count": null,
      "outputs": [
        {
          "output_type": "stream",
          "name": "stdout",
          "text": [
            "[[5 5 5 5]\n",
            " [5 5 5 5]\n",
            " [5 5 5 5]\n",
            " [5 5 5 5]\n",
            " [5 5 5 5]]\n"
          ]
        }
      ]
    },
    {
      "cell_type": "code",
      "source": [
        "# Creating an Identity matrix\n",
        "a = np.eye(4)\n",
        "print(a)"
      ],
      "metadata": {
        "colab": {
          "base_uri": "https://localhost:8080/"
        },
        "id": "KpSgX_2SLM7g",
        "outputId": "5bf2ba89-ca3a-4b2d-88da-67acbe4231ba"
      },
      "execution_count": null,
      "outputs": [
        {
          "output_type": "stream",
          "name": "stdout",
          "text": [
            "[[1. 0. 0. 0.]\n",
            " [0. 1. 0. 0.]\n",
            " [0. 0. 1. 0.]\n",
            " [0. 0. 0. 1.]]\n"
          ]
        }
      ]
    },
    {
      "cell_type": "code",
      "source": [
        "# Creating a NumPy arrays with random values\n",
        "b = np.random.random((3,4))\n",
        "print(b)"
      ],
      "metadata": {
        "colab": {
          "base_uri": "https://localhost:8080/"
        },
        "id": "neX0t5M0LYPA",
        "outputId": "e4528b95-06c4-4210-fb98-0967ee68067f"
      },
      "execution_count": null,
      "outputs": [
        {
          "output_type": "stream",
          "name": "stdout",
          "text": [
            "[[0.98394025 0.33425363 0.0723395  0.24609428]\n",
            " [0.07749598 0.75631516 0.10532563 0.35720312]\n",
            " [0.4396192  0.9047366  0.62058137 0.00591033]]\n"
          ]
        }
      ]
    },
    {
      "cell_type": "code",
      "source": [
        "# Random Integer values array with a specific range\n",
        "c = np.random.randint(10,100,(3,4))  # 3 X 4 matrix of random integer numbers between 10 to 100\n",
        "print(c)"
      ],
      "metadata": {
        "colab": {
          "base_uri": "https://localhost:8080/"
        },
        "id": "7A8xU4RqLpCv",
        "outputId": "51164709-3ec9-4424-e8fc-1efde496d7cb"
      },
      "execution_count": null,
      "outputs": [
        {
          "output_type": "stream",
          "name": "stdout",
          "text": [
            "[[33 13 99 53]\n",
            " [78 93 81 29]\n",
            " [60 98 43 34]]\n"
          ]
        }
      ]
    },
    {
      "cell_type": "code",
      "source": [
        "# Array of Evenly spaced values\n",
        "d = np.linspace(10,30,5)  # We need 5 evenly spaced values between 10 to 30\n",
        "print(d)"
      ],
      "metadata": {
        "colab": {
          "base_uri": "https://localhost:8080/"
        },
        "id": "RkQ7MauoMAIe",
        "outputId": "3385324c-9a45-4726-9be9-b7d73e38eb42"
      },
      "execution_count": null,
      "outputs": [
        {
          "output_type": "stream",
          "name": "stdout",
          "text": [
            "[10. 15. 20. 25. 30.]\n"
          ]
        }
      ]
    },
    {
      "cell_type": "code",
      "source": [
        "e = np.arange(10,30,5)  #we need the gap between numbers would be 5 between range 10 to 30\n",
        "print(e)"
      ],
      "metadata": {
        "colab": {
          "base_uri": "https://localhost:8080/"
        },
        "id": "_nhrbPUsMb5i",
        "outputId": "5e40f95c-a6a4-45f7-bb8e-f0879d1d81af"
      },
      "execution_count": null,
      "outputs": [
        {
          "output_type": "stream",
          "name": "stdout",
          "text": [
            "[10 15 20 25]\n"
          ]
        }
      ]
    },
    {
      "cell_type": "code",
      "source": [
        "# Convert a list to a numpy array\n",
        "list2 = [10,20,20,20,50]\n",
        "print(list2)\n",
        "print(type(list2))\n",
        "np_array = np.asarray(list2)\n",
        "print(np_array)\n",
        "type(np_array)"
      ],
      "metadata": {
        "colab": {
          "base_uri": "https://localhost:8080/"
        },
        "id": "MwDlQ7KzNIeH",
        "outputId": "89101d76-5e34-4e22-bc86-ffa1f81b7a57"
      },
      "execution_count": null,
      "outputs": [
        {
          "output_type": "stream",
          "name": "stdout",
          "text": [
            "[10, 20, 20, 20, 50]\n",
            "<class 'list'>\n",
            "[10 20 20 20 50]\n"
          ]
        },
        {
          "output_type": "execute_result",
          "data": {
            "text/plain": [
              "numpy.ndarray"
            ]
          },
          "metadata": {},
          "execution_count": 38
        }
      ]
    },
    {
      "cell_type": "code",
      "source": [
        "#Finding dimension of the array\n",
        "print(c.ndim)"
      ],
      "metadata": {
        "colab": {
          "base_uri": "https://localhost:8080/"
        },
        "id": "z9GaAbGSNdgc",
        "outputId": "98b9bc6c-fe26-47fc-fe01-f97a0eccdb0f"
      },
      "execution_count": null,
      "outputs": [
        {
          "output_type": "stream",
          "name": "stdout",
          "text": [
            "2\n"
          ]
        }
      ]
    },
    {
      "cell_type": "code",
      "source": [
        "#number of elements in an array\n",
        "print(c.size)"
      ],
      "metadata": {
        "colab": {
          "base_uri": "https://localhost:8080/"
        },
        "id": "CnYZ368wN9AM",
        "outputId": "a3a889c0-2284-4808-e732-e22e06106cae"
      },
      "execution_count": null,
      "outputs": [
        {
          "output_type": "stream",
          "name": "stdout",
          "text": [
            "12\n"
          ]
        }
      ]
    },
    {
      "cell_type": "code",
      "source": [
        "#checking the datatype\n",
        "print(c.dtype)"
      ],
      "metadata": {
        "colab": {
          "base_uri": "https://localhost:8080/"
        },
        "id": "5FJlGADVOEOo",
        "outputId": "d6437b38-82ab-45d5-a4d7-4f15ad72d5c0"
      },
      "execution_count": null,
      "outputs": [
        {
          "output_type": "stream",
          "name": "stdout",
          "text": [
            "int64\n"
          ]
        }
      ]
    },
    {
      "cell_type": "markdown",
      "source": [
        "**Mathematical Operations on np array**"
      ],
      "metadata": {
        "id": "AvfHS6koeBQ6"
      }
    },
    {
      "cell_type": "code",
      "source": [
        "list1 = [1,2,3,4,5]\n",
        "list2 = [6,7,8,9,10]\n",
        "print(list1+list2) #Concatenation"
      ],
      "metadata": {
        "id": "F6O1UzaxOKxb",
        "colab": {
          "base_uri": "https://localhost:8080/"
        },
        "outputId": "1ebd9a4c-0593-4856-c142-f8185525e65d"
      },
      "execution_count": null,
      "outputs": [
        {
          "output_type": "stream",
          "name": "stdout",
          "text": [
            "[1, 2, 3, 4, 5, 6, 7, 8, 9, 10]\n"
          ]
        }
      ]
    },
    {
      "cell_type": "code",
      "source": [
        "a = np.random.randint(0,10,(3,3))\n",
        "b = np.random.randint(10,20,(3,3))"
      ],
      "metadata": {
        "id": "9EuvVaWhepBU"
      },
      "execution_count": null,
      "outputs": []
    },
    {
      "cell_type": "code",
      "source": [
        "print(a)\n",
        "print(b)"
      ],
      "metadata": {
        "colab": {
          "base_uri": "https://localhost:8080/"
        },
        "id": "mccls4R-e-cL",
        "outputId": "78d57fa4-3785-4b64-d06d-2f154e5dac9a"
      },
      "execution_count": null,
      "outputs": [
        {
          "output_type": "stream",
          "name": "stdout",
          "text": [
            "[[2 7 0]\n",
            " [7 9 9]\n",
            " [7 3 4]]\n",
            "[[17 10 12]\n",
            " [19 12 13]\n",
            " [10 16 15]]\n"
          ]
        }
      ]
    },
    {
      "cell_type": "code",
      "source": [
        "print(a+b)\n",
        "print(a-b)\n",
        "print(a*b)\n",
        "print(a/b)"
      ],
      "metadata": {
        "colab": {
          "base_uri": "https://localhost:8080/"
        },
        "id": "_g2Ue_G-fBJF",
        "outputId": "82693244-bd04-43ec-9bb2-ce967719dc89"
      },
      "execution_count": null,
      "outputs": [
        {
          "output_type": "stream",
          "name": "stdout",
          "text": [
            "[[19 17 12]\n",
            " [26 21 22]\n",
            " [17 19 19]]\n",
            "[[-15  -3 -12]\n",
            " [-12  -3  -4]\n",
            " [ -3 -13 -11]]\n",
            "[[ 34  70   0]\n",
            " [133 108 117]\n",
            " [ 70  48  60]]\n",
            "[[0.11764706 0.7        0.        ]\n",
            " [0.36842105 0.75       0.69230769]\n",
            " [0.7        0.1875     0.26666667]]\n"
          ]
        }
      ]
    },
    {
      "cell_type": "code",
      "source": [
        "a = np.random.randint(0,10,(3,3))\n",
        "b = np.random.randint(10,20,(3,3))"
      ],
      "metadata": {
        "id": "Dl0097ejfJZh"
      },
      "execution_count": null,
      "outputs": []
    },
    {
      "cell_type": "code",
      "source": [
        "print(a)\n",
        "print(b)"
      ],
      "metadata": {
        "colab": {
          "base_uri": "https://localhost:8080/"
        },
        "id": "aTmzJDekfd-p",
        "outputId": "acd88c0b-12b4-49f3-f416-57d30fd00ce2"
      },
      "execution_count": null,
      "outputs": [
        {
          "output_type": "stream",
          "name": "stdout",
          "text": [
            "[[9 5 8]\n",
            " [9 9 1]\n",
            " [6 5 4]]\n",
            "[[17 15 19]\n",
            " [14 15 14]\n",
            " [13 15 16]]\n"
          ]
        }
      ]
    },
    {
      "cell_type": "code",
      "source": [
        "print(np.add(a,b))\n",
        "print(np.subtract(a,b))\n",
        "print(np.multiply(a,b))\n",
        "print(np.divide(a,b))"
      ],
      "metadata": {
        "colab": {
          "base_uri": "https://localhost:8080/"
        },
        "id": "SEqzkIwVfecy",
        "outputId": "acf7e84d-21d1-40df-8b46-4d0f00229ed7"
      },
      "execution_count": null,
      "outputs": [
        {
          "output_type": "stream",
          "name": "stdout",
          "text": [
            "[[26 20 27]\n",
            " [23 24 15]\n",
            " [19 20 20]]\n",
            "[[ -8 -10 -11]\n",
            " [ -5  -6 -13]\n",
            " [ -7 -10 -12]]\n",
            "[[153  75 152]\n",
            " [126 135  14]\n",
            " [ 78  75  64]]\n",
            "[[0.52941176 0.33333333 0.42105263]\n",
            " [0.64285714 0.6        0.07142857]\n",
            " [0.46153846 0.33333333 0.25      ]]\n"
          ]
        }
      ]
    },
    {
      "cell_type": "markdown",
      "source": [
        "**Array Manipulation**"
      ],
      "metadata": {
        "id": "RPqOoJpKfwCd"
      }
    },
    {
      "cell_type": "code",
      "source": [
        "array = np.random.randint(0,10,(2,3))\n",
        "print(array)\n",
        "array.shape"
      ],
      "metadata": {
        "colab": {
          "base_uri": "https://localhost:8080/"
        },
        "id": "ATdimO92fkSh",
        "outputId": "daa99396-81c3-4969-e940-b6cb354adbe5"
      },
      "execution_count": null,
      "outputs": [
        {
          "output_type": "stream",
          "name": "stdout",
          "text": [
            "[[8 0 7]\n",
            " [2 0 5]]\n"
          ]
        },
        {
          "output_type": "execute_result",
          "data": {
            "text/plain": [
              "(2, 3)"
            ]
          },
          "metadata": {},
          "execution_count": 10
        }
      ]
    },
    {
      "cell_type": "code",
      "source": [
        "# Transpose of Array\n",
        "trans = np.transpose(array)\n",
        "print(trans)\n",
        "trans.shape"
      ],
      "metadata": {
        "colab": {
          "base_uri": "https://localhost:8080/"
        },
        "id": "x3msdIOOf9Ku",
        "outputId": "49c828b1-b1c6-4348-e707-4b2460c7554f"
      },
      "execution_count": null,
      "outputs": [
        {
          "output_type": "stream",
          "name": "stdout",
          "text": [
            "[[8 2]\n",
            " [0 0]\n",
            " [7 5]]\n"
          ]
        },
        {
          "output_type": "execute_result",
          "data": {
            "text/plain": [
              "(3, 2)"
            ]
          },
          "metadata": {},
          "execution_count": 11
        }
      ]
    },
    {
      "cell_type": "code",
      "source": [
        "array = np.random.randint(0,10,(2,3))\n",
        "print(array)\n",
        "array.shape"
      ],
      "metadata": {
        "colab": {
          "base_uri": "https://localhost:8080/"
        },
        "id": "zT_9UKP4gF_n",
        "outputId": "74b4e553-6978-4647-d5cf-17f13dd66ab6"
      },
      "execution_count": null,
      "outputs": [
        {
          "output_type": "stream",
          "name": "stdout",
          "text": [
            "[[7 2 7]\n",
            " [7 5 3]]\n"
          ]
        },
        {
          "output_type": "execute_result",
          "data": {
            "text/plain": [
              "(2, 3)"
            ]
          },
          "metadata": {},
          "execution_count": 12
        }
      ]
    },
    {
      "cell_type": "code",
      "source": [
        "trans2 = array.T\n",
        "print(trans2)\n",
        "trans2.shape"
      ],
      "metadata": {
        "colab": {
          "base_uri": "https://localhost:8080/"
        },
        "id": "7Mf1vtjOgZvH",
        "outputId": "362d481a-7eb2-4ae5-b4d5-6f7c67034b27"
      },
      "execution_count": null,
      "outputs": [
        {
          "output_type": "stream",
          "name": "stdout",
          "text": [
            "[[7 7]\n",
            " [2 5]\n",
            " [7 3]]\n"
          ]
        },
        {
          "output_type": "execute_result",
          "data": {
            "text/plain": [
              "(3, 2)"
            ]
          },
          "metadata": {},
          "execution_count": 13
        }
      ]
    },
    {
      "cell_type": "code",
      "source": [
        "#Reshaping an Array\n",
        "arr = np.random.randint(0,10,(2,3))\n",
        "print(arr)\n",
        "arr.shape"
      ],
      "metadata": {
        "colab": {
          "base_uri": "https://localhost:8080/"
        },
        "id": "EiakftohgkH2",
        "outputId": "8697d2e9-3f17-4fd1-fb6b-34f88a15aed2"
      },
      "execution_count": null,
      "outputs": [
        {
          "output_type": "stream",
          "name": "stdout",
          "text": [
            "[[4 4 3]\n",
            " [9 6 4]]\n"
          ]
        },
        {
          "output_type": "execute_result",
          "data": {
            "text/plain": [
              "(2, 3)"
            ]
          },
          "metadata": {},
          "execution_count": 15
        }
      ]
    },
    {
      "cell_type": "code",
      "source": [
        "barr = arr.reshape(3,2)\n",
        "print(barr)\n",
        "barr.shape"
      ],
      "metadata": {
        "colab": {
          "base_uri": "https://localhost:8080/"
        },
        "id": "80RfZGjag3LC",
        "outputId": "4d9fc325-8eb8-4faf-d901-31b7947f35d1"
      },
      "execution_count": null,
      "outputs": [
        {
          "output_type": "stream",
          "name": "stdout",
          "text": [
            "[[4 4]\n",
            " [3 9]\n",
            " [6 4]]\n"
          ]
        },
        {
          "output_type": "execute_result",
          "data": {
            "text/plain": [
              "(3, 2)"
            ]
          },
          "metadata": {},
          "execution_count": 17
        }
      ]
    }
  ]
}